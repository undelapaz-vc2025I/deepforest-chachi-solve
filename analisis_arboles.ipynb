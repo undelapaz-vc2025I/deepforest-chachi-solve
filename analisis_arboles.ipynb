{
 "cells": [
  {
   "cell_type": "markdown",
   "metadata": {},
   "source": [
    "# DeepForest: An\u00e1lisis completo\n",
    "Detecci\u00f3n de \u00e1rboles, an\u00e1lisis de \u00edndices de vegetaci\u00f3n e interpretaci\u00f3n RGB."
   ]
  },
  {
   "cell_type": "code",
   "execution_count": null,
   "metadata": {},
   "outputs": [],
   "source": [
    "# 1. Carga de librer\u00edas\n",
    "from deepforest import main\n",
    "from deepforest import get_data\n",
    "from deepforest.visualize import plot_results\n",
    "from PIL import Image\n",
    "import numpy as np\n",
    "import pandas as pd\n",
    "import matplotlib.pyplot as plt"
   ]
  },
  {
   "cell_type": "code",
   "execution_count": null,
   "metadata": {},
   "outputs": [],
   "source": [
    "# 2. Inicializaci\u00f3n del modelo\n",
    "model = main.deepforest()\n",
    "model.load_model(model_name=\"weecology/deepforest-tree\", revision=\"main\")"
   ]
  },
  {
   "cell_type": "code",
   "execution_count": null,
   "metadata": {},
   "outputs": [],
   "source": [
    "# 3. Carga de imagen y predicci\u00f3n\n",
    "sample_image_path = \"mi_imagen/imagen_taller7.jpg\"\n",
    "img_in = Image.open(sample_image_path)\n",
    "display(img_in)\n",
    "img_array = np.array(img_in)\n",
    "img_out = model.predict_image(path=sample_image_path)\n",
    "plot_results(img_out)\n",
    "print(f\"N\u00famero de \u00e1rboles detectados: {len(img_out)}\")"
   ]
  },
  {
   "cell_type": "code",
   "execution_count": null,
   "metadata": {},
   "outputs": [],
   "source": [
    "# 4. C\u00e1lculo de \u00e1reas e ID\n",
    "img_out[\"id_arbol\"] = range(1, len(img_out) + 1)\n",
    "img_out[\"area_px\"] = (img_out[\"xmax\"] - img_out[\"xmin\"]) * (img_out[\"ymax\"] - img_out[\"ymin\"])"
   ]
  },
  {
   "cell_type": "code",
   "execution_count": null,
   "metadata": {},
   "outputs": [],
   "source": [
    "# 5. \u00cdndices de vegetaci\u00f3n\n",
    "img_float = img_array.astype(float)\n",
    "R = img_float[:, :, 0]\n",
    "G = img_float[:, :, 1]\n",
    "B = img_float[:, :, 2]\n",
    "ExG = 2 * G - R - B\n",
    "epsilon = 1e-6\n",
    "VARI = (G - R) / (G + R - B + epsilon)\n",
    "ExG_means = []\n",
    "VARI_means = []\n",
    "for _, row in img_out.iterrows():\n",
    "    xmin, ymin, xmax, ymax = map(int, [row[\"xmin\"], row[\"ymin\"], row[\"xmax\"], row[\"ymax\"]])\n",
    "    ExG_crop = ExG[ymin:ymax, xmin:xmax]\n",
    "    VARI_crop = VARI[ymin:ymax, xmin:xmax]\n",
    "    ExG_means.append(np.mean(ExG_crop))\n",
    "    VARI_means.append(np.mean(VARI_crop))\n",
    "img_out[\"ExG_mean\"] = ExG_means\n",
    "img_out[\"VARI_mean\"] = VARI_means"
   ]
  },
  {
   "cell_type": "code",
   "execution_count": null,
   "metadata": {},
   "outputs": [],
   "source": [
    "# 6. Mostrar cajas e IDs\n",
    "fig, ax = plt.subplots(figsize=(12, 12))\n",
    "ax.imshow(img_array)\n",
    "for _, row in img_out.iterrows():\n",
    "    xmin, ymin, xmax, ymax = map(int, [row[\"xmin\"], row[\"ymin\"], row[\"xmax\"], row[\"ymax\"]])\n",
    "    rect = plt.Rectangle((xmin, ymin), xmax - xmin, ymax - ymin, edgecolor=\"lime\", facecolor=\"none\", linewidth=2)\n",
    "    ax.add_patch(rect)\n",
    "    ax.text(xmin, ymin - 5, f'ID {int(row[\"id_arbol\"])}', color='yellow', fontsize=8, weight='bold')\n",
    "plt.axis('off')\n",
    "plt.show()"
   ]
  },
  {
   "cell_type": "code",
   "execution_count": null,
   "metadata": {},
   "outputs": [],
   "source": [
    "# 7. Histogramas RGB\n",
    "mask = np.zeros((img_array.shape[0], img_array.shape[1]), dtype=bool)\n",
    "for _, row in img_out.iterrows():\n",
    "    xmin, ymin, xmax, ymax = map(int, [row[\"xmin\"], row[\"ymin\"], row[\"xmax\"], row[\"ymax\"]])\n",
    "    mask[ymin:ymax, xmin:xmax] = True\n",
    "pixels_arbol = img_array[mask]\n",
    "pixels_no_arbol = img_array[~mask]\n",
    "plt.figure(figsize=(15, 5))\n",
    "for i, color in enumerate(['red', 'green', 'blue']):\n",
    "    plt.subplot(1, 3, i+1)\n",
    "    plt.hist(pixels_arbol[:, i], bins=50, alpha=0.5, label=\"\u00c1rboles\", color=color)\n",
    "    plt.hist(pixels_no_arbol[:, i], bins=50, alpha=0.5, label=\"No \u00e1rboles\", color='gray')\n",
    "    plt.title(f'Histograma canal {color.upper()}')\n",
    "    plt.legend()\n",
    "plt.tight_layout()\n",
    "plt.show()"
   ]
  },
  {
   "cell_type": "code",
   "execution_count": null,
   "metadata": {},
   "outputs": [],
   "source": [
    "# 8. Diagramas de dispersi\u00f3n RGB\n",
    "img_out[\"R_mean\"] = img_out.apply(lambda row: np.mean(img_array[int(row.ymin):int(row.ymax), int(row.xmin):int(row.xmax), 0]), axis=1)\n",
    "img_out[\"G_mean\"] = img_out.apply(lambda row: np.mean(img_array[int(row.ymin):int(row.ymax), int(row.xmin):int(row.xmax), 1]), axis=1)\n",
    "img_out[\"B_mean\"] = img_out.apply(lambda row: np.mean(img_array[int(row.ymin):int(row.ymax), int(row.xmin):int(row.xmax), 2]), axis=1)\n",
    "samples_out = pixels_no_arbol[np.random.choice(len(pixels_no_arbol), len(img_out), replace=False)]\n",
    "R_no, G_no, B_no = samples_out[:,0], samples_out[:,1], samples_out[:,2]\n",
    "plt.figure(figsize=(15, 5))\n",
    "plt.subplot(1, 3, 1)\n",
    "plt.scatter(img_out[\"R_mean\"], img_out[\"G_mean\"], label=\"\u00c1rboles\", alpha=0.6)\n",
    "plt.scatter(R_no, G_no, label=\"No \u00e1rboles\", alpha=0.3)\n",
    "plt.title(\"R vs G\"); plt.xlabel(\"R\"); plt.ylabel(\"G\"); plt.legend()\n",
    "plt.subplot(1, 3, 2)\n",
    "plt.scatter(img_out[\"G_mean\"], img_out[\"B_mean\"], label=\"\u00c1rboles\", alpha=0.6)\n",
    "plt.scatter(G_no, B_no, label=\"No \u00e1rboles\", alpha=0.3)\n",
    "plt.title(\"G vs B\"); plt.xlabel(\"G\"); plt.ylabel(\"B\")\n",
    "plt.subplot(1, 3, 3)\n",
    "plt.scatter(img_out[\"R_mean\"], img_out[\"B_mean\"], label=\"\u00c1rboles\", alpha=0.6)\n",
    "plt.scatter(R_no, B_no, label=\"No \u00e1rboles\", alpha=0.3)\n",
    "plt.title(\"R vs B\"); plt.xlabel(\"R\"); plt.ylabel(\"B\")\n",
    "plt.tight_layout()\n",
    "plt.show()"
   ]
  },
  {
   "cell_type": "code",
   "execution_count": null,
   "metadata": {},
   "outputs": [],
   "source": [
    "# 9. Guardar CSV\n",
    "img_out.to_csv(\"datos_arboles.csv\", index=False)\n",
    "print(\"Archivo 'datos_arboles.csv' guardado.\")\n"
   ]
  }
 ],
 "metadata": {
  "kernelspec": {
   "display_name": "DeepForest",
   "language": "python",
   "name": "python3"
  },
  "language_info": {
   "name": "python",
   "version": "3.11.13"
  }
 },
 "nbformat": 4,
 "nbformat_minor": 2
}
