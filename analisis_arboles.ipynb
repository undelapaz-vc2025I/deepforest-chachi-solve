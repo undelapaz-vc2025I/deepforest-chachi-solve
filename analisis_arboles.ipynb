{
 "cells": [
  {
   "cell_type": "markdown",
   "metadata": {},
   "source": [
    "# DeepForest: An\u00e1lisis completo\n",
    "Detecci\u00f3n de \u00e1rboles, an\u00e1lisis de \u00edndices de vegetaci\u00f3n e interpretaci\u00f3n RGB."
   ]
  },
  {
   "cell_type": "code",
   "execution_count": null,
   "metadata": {},
   "outputs": [],
   "source": [
    "# 1. Carga de librer\u00edas",
    "from deepforest import main\n",
    "from deepforest import get_data\n",
    "from deepforest.visualize import plot_results\n",
    "from PIL import Image\n",
    "import numpy as np\n",
    "import pandas as pd\n",
    "import matplotlib.pyplot as plt"
   ]
  },
  {
   "cell_type": "code",
   "execution_count": null,
   "metadata": {},
   "outputs": [],
   "source": [
    "# 2. Inicializaci\u00f3n del modelo",
    "model = main.deepforest()",
    "model.load_model(model_name=\"weecology/deepforest-tree\", revision=\"main\")"
   ]
  },
  {
   "cell_type": "code",
   "execution_count": null,
   "metadata": {},
   "outputs": [],
   "source": [
    "# 3. Carga de imagen y predicci\u00f3n",
    "sample_image_path = get_data(\"OSBS_029.png\")",
    "img_in = Image.open(sample_image_path)",
    "display(img_in)",
    "img_array = np.array(img_in)",
    "img_out = model.predict_image(path=sample_image_path)",
    "plot_results(img_out)",
    "print(f\"N\u00famero de \u00e1rboles detectados: {len(img_out)}\")"
   ]
  },
  {
   "cell_type": "code",
   "execution_count": null,
   "metadata": {},
   "outputs": [],
   "source": [
    "# 4. C\u00e1lculo de \u00e1reas e ID",
    "img_out[\"id_arbol\"] = range(1, len(img_out) + 1)",
    "img_out[\"area_px\"] = (img_out[\"xmax\"] - img_out[\"xmin\"]) * (img_out[\"ymax\"] - img_out[\"ymin\"])"
   ]
  },
  {
   "cell_type": "code",
   "execution_count": null,
   "metadata": {},
   "outputs": [],
   "source": [
    "# 5. \u00cdndices de vegetaci\u00f3n",
    "img_float = img_array.astype(float)",
    "R = img_float[:, :, 0]",
    "G = img_float[:, :, 1]",
    "B = img_float[:, :, 2]",
    "ExG = 2 * G - R - B",
    "epsilon = 1e-6",
    "VARI = (G - R) / (G + R - B + epsilon)",
    "ExG_means = []",
    "VARI_means = []",
    "for _, row in img_out.iterrows():",
    "    xmin, ymin, xmax, ymax = map(int, [row[\"xmin\"], row[\"ymin\"], row[\"xmax\"], row[\"ymax\"]])",
    "    ExG_crop = ExG[ymin:ymax, xmin:xmax]",
    "    VARI_crop = VARI[ymin:ymax, xmin:xmax]",
    "    ExG_means.append(np.mean(ExG_crop))",
    "    VARI_means.append(np.mean(VARI_crop))",
    "img_out[\"ExG_mean\"] = ExG_means",
    "img_out[\"VARI_mean\"] = VARI_means"
   ]
  },
  {
   "cell_type": "code",
   "execution_count": null,
   "metadata": {},
   "outputs": [],
   "source": [
    "# 6. Mostrar cajas e IDs",
    "fig, ax = plt.subplots(figsize=(12, 12))",
    "ax.imshow(img_array)",
    "for _, row in img_out.iterrows():",
    "    xmin, ymin, xmax, ymax = map(int, [row[\"xmin\"], row[\"ymin\"], row[\"xmax\"], row[\"ymax\"]])",
    "    rect = plt.Rectangle((xmin, ymin), xmax - xmin, ymax - ymin, edgecolor=\"lime\", facecolor=\"none\", linewidth=2)",
    "    ax.add_patch(rect)",
    "    ax.text(xmin, ymin - 5, f'ID {int(row[\"id_arbol\"])}', color='yellow', fontsize=8, weight='bold')",
    "plt.axis('off')",
    "plt.show()"
   ]
  },
  {
   "cell_type": "code",
   "execution_count": null,
   "metadata": {},
   "outputs": [],
   "source": [
    "# 7. Histogramas RGB",
    "mask = np.zeros((img_array.shape[0], img_array.shape[1]), dtype=bool)",
    "for _, row in img_out.iterrows():",
    "    xmin, ymin, xmax, ymax = map(int, [row[\"xmin\"], row[\"ymin\"], row[\"xmax\"], row[\"ymax\"]])",
    "    mask[ymin:ymax, xmin:xmax] = True",
    "pixels_arbol = img_array[mask]",
    "pixels_no_arbol = img_array[~mask]",
    "plt.figure(figsize=(15, 5))",
    "for i, color in enumerate(['red', 'green', 'blue']):",
    "    plt.subplot(1, 3, i+1)",
    "    plt.hist(pixels_arbol[:, i], bins=50, alpha=0.5, label=\"\u00c1rboles\", color=color)",
    "    plt.hist(pixels_no_arbol[:, i], bins=50, alpha=0.5, label=\"No \u00e1rboles\", color='gray')",
    "    plt.title(f'Histograma canal {color.upper()}')",
    "    plt.legend()",
    "plt.tight_layout()",
    "plt.show()"
   ]
  },
  {
   "cell_type": "code",
   "execution_count": null,
   "metadata": {},
   "outputs": [],
   "source": [
    "# 8. Diagramas de dispersi\u00f3n RGB",
    "img_out[\"R_mean\"] = img_out.apply(lambda row: np.mean(img_array[int(row.ymin):int(row.ymax), int(row.xmin):int(row.xmax), 0]), axis=1)",
    "img_out[\"G_mean\"] = img_out.apply(lambda row: np.mean(img_array[int(row.ymin):int(row.ymax), int(row.xmin):int(row.xmax), 1]), axis=1)",
    "img_out[\"B_mean\"] = img_out.apply(lambda row: np.mean(img_array[int(row.ymin):int(row.ymax), int(row.xmin):int(row.xmax), 2]), axis=1)",
    "samples_out = pixels_no_arbol[np.random.choice(len(pixels_no_arbol), len(img_out), replace=False)]",
    "R_no, G_no, B_no = samples_out[:,0], samples_out[:,1], samples_out[:,2]",
    "plt.figure(figsize=(15, 5))",
    "plt.subplot(1, 3, 1)",
    "plt.scatter(img_out[\"R_mean\"], img_out[\"G_mean\"], label=\"\u00c1rboles\", alpha=0.6)",
    "plt.scatter(R_no, G_no, label=\"No \u00e1rboles\", alpha=0.3)",
    "plt.title(\"R vs G\"); plt.xlabel(\"R\"); plt.ylabel(\"G\"); plt.legend()",
    "plt.subplot(1, 3, 2)",
    "plt.scatter(img_out[\"G_mean\"], img_out[\"B_mean\"], label=\"\u00c1rboles\", alpha=0.6)",
    "plt.scatter(G_no, B_no, label=\"No \u00e1rboles\", alpha=0.3)",
    "plt.title(\"G vs B\"); plt.xlabel(\"G\"); plt.ylabel(\"B\")",
    "plt.subplot(1, 3, 3)",
    "plt.scatter(img_out[\"R_mean\"], img_out[\"B_mean\"], label=\"\u00c1rboles\", alpha=0.6)",
    "plt.scatter(R_no, B_no, label=\"No \u00e1rboles\", alpha=0.3)",
    "plt.title(\"R vs B\"); plt.xlabel(\"R\"); plt.ylabel(\"B\")",
    "plt.tight_layout()",
    "plt.show()"
   ]
  },
  {
   "cell_type": "code",
   "execution_count": null,
   "metadata": {},
   "outputs": [],
   "source": [
    "# 9. Guardar CSV",
    "img_out.to_csv(\"datos_arboles.csv\", index=False)",
    "print(\"Archivo 'datos_arboles.csv' guardado.\")"
   ]
  }
 ],
 "metadata": {
  "kernelspec": {
   "display_name": "DeepForest",
   "language": "python",
   "name": "python3"
  },
  "language_info": {
   "name": "python",
   "version": "3.11.13"
  }
 },
 "nbformat": 4,
 "nbformat_minor": 2
}
